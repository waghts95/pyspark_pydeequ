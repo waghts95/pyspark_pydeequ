{
  "nbformat": 4,
  "nbformat_minor": 0,
  "metadata": {
    "colab": {
      "provenance": []
    },
    "kernelspec": {
      "name": "python3",
      "display_name": "Python 3"
    },
    "language_info": {
      "name": "python"
    }
  },
  "cells": [
    {
      "cell_type": "code",
      "source": [
        "!git clone https://github.com/waghts95/pyspark_pydeequ.git"
      ],
      "metadata": {
        "colab": {
          "base_uri": "https://localhost:8080/"
        },
        "id": "ZesjF4fJqp-i",
        "outputId": "af0be047-f197-47a7-c6d7-601abd8ae92e"
      },
      "execution_count": 15,
      "outputs": [
        {
          "output_type": "stream",
          "name": "stdout",
          "text": [
            "Cloning into 'pyspark_pydeequ'...\n",
            "remote: Enumerating objects: 6, done.\u001b[K\n",
            "remote: Counting objects: 100% (6/6), done.\u001b[K\n",
            "remote: Compressing objects: 100% (5/5), done.\u001b[K\n",
            "remote: Total 6 (delta 0), reused 0 (delta 0), pack-reused 0\u001b[K\n",
            "Receiving objects: 100% (6/6), 6.57 MiB | 19.32 MiB/s, done.\n"
          ]
        }
      ]
    },
    {
      "cell_type": "code",
      "source": [
        "!pip3 install py4j==0.10.9.7"
      ],
      "metadata": {
        "colab": {
          "base_uri": "https://localhost:8080/",
          "height": 315
        },
        "id": "0B0pONfylwpI",
        "outputId": "93d6ec11-3de9-4039-c01f-12b20ef37e94"
      },
      "execution_count": 15,
      "outputs": [
        {
          "output_type": "stream",
          "name": "stdout",
          "text": [
            "Collecting py4j==0.10.9.7\n",
            "  Downloading py4j-0.10.9.7-py2.py3-none-any.whl (200 kB)\n",
            "\u001b[?25l     \u001b[90m━━━━━━━━━━━━━━━━━━━━━━━━━━━━━━━━━━━━━━━━\u001b[0m \u001b[32m0.0/200.5 kB\u001b[0m \u001b[31m?\u001b[0m eta \u001b[36m-:--:--\u001b[0m\r\u001b[2K     \u001b[91m━━━━━━━━\u001b[0m\u001b[90m╺\u001b[0m\u001b[90m━━━━━━━━━━━━━━━━━━━━━━━━━━━━━━━\u001b[0m \u001b[32m41.0/200.5 kB\u001b[0m \u001b[31m1.1 MB/s\u001b[0m eta \u001b[36m0:00:01\u001b[0m\r\u001b[2K     \u001b[90m━━━━━━━━━━━━━━━━━━━━━━━━━━━━━━━━━━━━━━━\u001b[0m \u001b[32m200.5/200.5 kB\u001b[0m \u001b[31m2.9 MB/s\u001b[0m eta \u001b[36m0:00:00\u001b[0m\n",
            "\u001b[?25hInstalling collected packages: py4j\n",
            "  Attempting uninstall: py4j\n",
            "    Found existing installation: py4j 0.10.9.2\n",
            "    Uninstalling py4j-0.10.9.2:\n",
            "      Successfully uninstalled py4j-0.10.9.2\n",
            "\u001b[31mERROR: pip's dependency resolver does not currently take into account all the packages that are installed. This behaviour is the source of the following dependency conflicts.\n",
            "pyspark 3.2.0 requires py4j==0.10.9.2, but you have py4j 0.10.9.7 which is incompatible.\u001b[0m\u001b[31m\n",
            "\u001b[0mSuccessfully installed py4j-0.10.9.7\n"
          ]
        },
        {
          "output_type": "display_data",
          "data": {
            "application/vnd.colab-display-data+json": {
              "pip_warning": {
                "packages": [
                  "py4j"
                ]
              }
            }
          },
          "metadata": {}
        }
      ]
    },
    {
      "cell_type": "code",
      "source": [
        "! pip3 install pyspark==3.3"
      ],
      "metadata": {
        "id": "B7s6XRumFWMx",
        "colab": {
          "base_uri": "https://localhost:8080/"
        },
        "outputId": "5831a94d-16bf-4573-be1b-55417c5d89ef"
      },
      "execution_count": 2,
      "outputs": [
        {
          "output_type": "stream",
          "name": "stdout",
          "text": [
            "Collecting pyspark==3.3\n",
            "  Using cached pyspark-3.3.0-py2.py3-none-any.whl\n",
            "Collecting py4j==0.10.9.5 (from pyspark==3.3)\n",
            "  Using cached py4j-0.10.9.5-py2.py3-none-any.whl (199 kB)\n",
            "Installing collected packages: py4j, pyspark\n",
            "  Attempting uninstall: py4j\n",
            "    Found existing installation: py4j 0.10.9.2\n",
            "    Uninstalling py4j-0.10.9.2:\n",
            "      Successfully uninstalled py4j-0.10.9.2\n",
            "  Attempting uninstall: pyspark\n",
            "    Found existing installation: pyspark 3.2.0\n",
            "    Uninstalling pyspark-3.2.0:\n",
            "      Successfully uninstalled pyspark-3.2.0\n",
            "Successfully installed py4j-0.10.9.5 pyspark-3.3.0\n"
          ]
        }
      ]
    },
    {
      "cell_type": "code",
      "execution_count": 3,
      "metadata": {
        "colab": {
          "base_uri": "https://localhost:8080/"
        },
        "id": "7SbqEz6kEhub",
        "outputId": "911967bf-6c79-4d6a-d5ad-2b0c032a070b"
      },
      "outputs": [
        {
          "output_type": "stream",
          "name": "stdout",
          "text": [
            "Requirement already satisfied: pydeequ==1.1.0 in /usr/local/lib/python3.10/dist-packages (1.1.0)\n",
            "Requirement already satisfied: numpy>=1.14.1 in /usr/local/lib/python3.10/dist-packages (from pydeequ==1.1.0) (1.22.4)\n",
            "Requirement already satisfied: pandas>=0.23.0 in /usr/local/lib/python3.10/dist-packages (from pydeequ==1.1.0) (1.5.3)\n",
            "Requirement already satisfied: python-dateutil>=2.8.1 in /usr/local/lib/python3.10/dist-packages (from pandas>=0.23.0->pydeequ==1.1.0) (2.8.2)\n",
            "Requirement already satisfied: pytz>=2020.1 in /usr/local/lib/python3.10/dist-packages (from pandas>=0.23.0->pydeequ==1.1.0) (2022.7.1)\n",
            "Requirement already satisfied: six>=1.5 in /usr/local/lib/python3.10/dist-packages (from python-dateutil>=2.8.1->pandas>=0.23.0->pydeequ==1.1.0) (1.16.0)\n"
          ]
        }
      ],
      "source": [
        "!pip3 install pydeequ==1.1.0"
      ]
    },
    {
      "cell_type": "code",
      "source": [
        "import os\n",
        "os.environ[\"SPARK_VERSION\"]=\"3.3\""
      ],
      "metadata": {
        "id": "IMysVncUPvD5"
      },
      "execution_count": 4,
      "outputs": []
    },
    {
      "cell_type": "code",
      "source": [
        "from pyspark.sql import SparkSession"
      ],
      "metadata": {
        "id": "gk7aNA2CFUdS"
      },
      "execution_count": 5,
      "outputs": []
    },
    {
      "cell_type": "code",
      "source": [
        "import pydeequ"
      ],
      "metadata": {
        "id": "0YnzqSVqGFxx"
      },
      "execution_count": 6,
      "outputs": []
    },
    {
      "cell_type": "code",
      "source": [
        "spark = (SparkSession\n",
        "    .builder\n",
        "    .config(\"spark.jars.packages\", pydeequ.deequ_maven_coord)\n",
        "    .config(\"spark.jars.excludes\", pydeequ.f2j_maven_coord)\n",
        "    .getOrCreate())\n"
      ],
      "metadata": {
        "id": "d-oCfug0FLyi"
      },
      "execution_count": 7,
      "outputs": []
    },
    {
      "cell_type": "code",
      "source": [
        "df = spark.read.csv('/content/pyspark_pydeequ/USvideos.csv', header=True)"
      ],
      "metadata": {
        "id": "0Kc1na6WdCsv"
      },
      "execution_count": 16,
      "outputs": []
    },
    {
      "cell_type": "code",
      "source": [
        "df.select(\"*\").show()"
      ],
      "metadata": {
        "colab": {
          "base_uri": "https://localhost:8080/"
        },
        "id": "FpNMTWrcdm-f",
        "outputId": "8e309541-8545-402e-da1d-c80190dd9b2c"
      },
      "execution_count": 17,
      "outputs": [
        {
          "output_type": "stream",
          "name": "stdout",
          "text": [
            "+-----------+-------------+--------------------+--------------------+-----------+--------------------+--------------------+-------+------+--------+-------------+--------------------+-----------------+----------------+----------------------+--------------------+\n",
            "|   video_id|trending_date|               title|       channel_title|category_id|        publish_time|                tags|  views| likes|dislikes|comment_count|      thumbnail_link|comments_disabled|ratings_disabled|video_error_or_removed|         description|\n",
            "+-----------+-------------+--------------------+--------------------+-----------+--------------------+--------------------+-------+------+--------+-------------+--------------------+-----------------+----------------+----------------------+--------------------+\n",
            "|5iVxBDPlbc4|     17.22.12|Why Imperial Admi...|     The Lore Master|         24|2017-12-18T18:19:...|\"Why Imperial Adm...| 126622|  5601|      72|          535|https://i.ytimg.c...|            False|           False|                 False|Why Imperial Admi...|\n",
            "|D0N3qaqXymY|     17.22.12|Steelers Robbed B...|     Blurred Culture|         17|2017-12-18T00:45:...|\"Steelers Robbed ...| 208872|  1030|     826|         1802|https://i.ytimg.c...|            False|           False|                 False|It seemed like th...|\n",
            "|C5jcZGcMdaI|     17.22.12|Half Magic - Offi...|   Momentum Pictures|          1|2017-12-19T14:04:...|              [none]|  14046|    51|       6|            9|https://i.ytimg.c...|            False|           False|                 False|Follow Momentum P...|\n",
            "|jw7q_kcQXO8|     17.22.12|Electromechanical...|           negermano|         10|2017-12-18T17:10:...|\"pixel|\"\"electrom...|   2492|     4|       0|            0|https://i.ytimg.c...|            False|           False|                 False|This is a view of...|\n",
            "|SO0HTI8QuQU|     17.22.12|Buying People Pre...|   Third Leg Studios|         23|2017-12-17T17:08:...|\"christmas presen...| 278333|  8179|     247|          258|https://i.ytimg.c...|            False|           False|                 False|Subscribe for mor...|\n",
            "|1Znl8OUBa_o|     17.22.12|Gucci Gang Countr...|            nigahiga|         24|2017-12-16T16:55:...|\"ryan|\"\"higa\"\"|\"\"...|4498768|276406|    5050|        39345|https://i.ytimg.c...|            False|           False|                 False|Leave your Dear R...|\n",
            "|0IC3II1i5yM|     17.22.12|When Harry met Ba...|The Royal Family ...|         25|2017-12-17T18:48:...|\"royal|\"\"royal fa...| 112552|  1674|     484|          639|https://i.ytimg.c...|            False|           False|                 False|Prince Harry quiz...|\n",
            "|GjDK_6NtYGQ|     17.22.12|50 TOTALLY CRAZY ...|     5-Minute Crafts|         26|2017-12-16T16:30:...|\"5-Minute Crafts|...|5600788| 41260|    5263|         3258|https://i.ytimg.c...|            False|           False|                 False|Subscribe to 5-Mi...|\n",
            "|gy_aLyB41wQ|     17.22.12|I Bought a Bitcoi...|          TechSmartt|         28|2017-12-16T22:59:...|\"bitcoin|\"\"btc\"\"|...| 943803| 28440|    2948|         4470|https://i.ytimg.c...|            False|           False|                 False|I found a guy on ...|\n",
            "|74LFfWHc0oo|     17.22.12|STAR WARS THE LAS...|    Andre Black Nerd|         24|2017-12-17T19:21:...|\"star wars|\"\"star...| 125763|  6835|     752|         2246|https://i.ytimg.c...|            False|           False|                 False|More Black Nerd M...|\n",
            "|AEAHRq62p3Q|     17.22.12|Steelers' Jesse J...|           NFL World|         17|2017-12-18T00:34:...|  \"NFL|\"\"Football\"\"\"|  72346|   220|     165|          578|https://i.ytimg.c...|            False|           False|                 False|Follow Us on Twit...|\n",
            "|4vZJn6r0dRw|     17.22.12|YOUTUBERS REACT T...|                 FBE|         24|2017-12-16T22:00:...|\"top 10|\"\"luis fo...|1595752| 44879|    1299|         4910|https://i.ytimg.c...|            False|           False|                 False|CLICK TO SUBSCRIB...|\n",
            "|25Uouf_9DUk|     17.22.12|Controversial inc...|           Sport Hub|         22|2017-12-18T00:35:...|              [none]|  56687|   107|      60|          282|https://i.ytimg.c...|            False|           False|                 False|Watch: https://ww...|\n",
            "|MXFhiN0tM3s|     17.22.12|Trump delivers re...|     Washington Post|         25|2017-12-18T19:39:...|\"national securit...|  32693|   442|     431|          535|https://i.ytimg.c...|            False|           False|                 False|President Trump d...|\n",
            "|W-KEuvd3S-Q|     17.22.12|Introducing Commu...|            grandayy|         24|2017-12-16T18:33:...|\"amazon echo|\"\"am...| 983154| 63925|    2175|         4097|https://i.ytimg.c...|            False|           False|                 False|Twitter: https://...|\n",
            "|NWeCToDgdxU|     17.22.12|Star Wars: The La...|         John Campea|         24|2017-12-17T22:09:...|\"Star Wars|\"\"The ...|  82992|  2651|     429|         1739|https://i.ytimg.c...|            False|           False|                 False|John gives his St...|\n",
            "|r1x0X5PCYak|     17.22.12|EXTREME HOLIDAY G...|     NikkieTutorials|         26|2017-12-16T20:00:...|\"extreme holiday ...|2540265|223238|    3170|        71971|https://i.ytimg.c...|            False|           False|                 False|Make sure you sub...|\n",
            "|2ckenWENyUg|     17.22.12|Small Details You...|              Looper|         24|2017-12-16T15:00:...|\"last jedi|\"\"the ...| 918083|  7571|     929|         1369|https://i.ytimg.c...|            False|           False|                 False|If you're new, Su...|\n",
            "|lbOXPpVejJ0|     17.22.12|Trae Young Oklaho...|      Frankie Vision|         17|2017-12-17T01:45:...|\"Luka|\"\"Doncic\"\"|...| 220548|  1857|      26|          423|https://i.ytimg.c...|            False|           False|                 False|Song and Beats Su...|\n",
            "|muAPJiMho2Y|     17.22.12|DELIT DE FUITE - ...|            CHRIS-RS|          2|2017-12-15T16:00:...|\"Z800|\"\"Z800E\"\"|\"...|2843579| 91342|     845|        10073|https://i.ytimg.c...|            False|           False|                 False|Et bien oui...enc...|\n",
            "+-----------+-------------+--------------------+--------------------+-----------+--------------------+--------------------+-------+------+--------+-------------+--------------------+-----------------+----------------+----------------------+--------------------+\n",
            "only showing top 20 rows\n",
            "\n"
          ]
        }
      ]
    },
    {
      "cell_type": "markdown",
      "source": [
        "\n",
        "\n",
        "```\n",
        "# Analyzers\n",
        "```\n",
        "\n"
      ],
      "metadata": {
        "id": "zJpcX4mbfUlI"
      }
    },
    {
      "cell_type": "code",
      "source": [
        "from pydeequ.analyzers import *\n",
        "\n",
        "analysisResult = AnalysisRunner(spark) \\\n",
        "                    .onData(df) \\\n",
        "                    .addAnalyzer(Size()) \\\n",
        "                    .addAnalyzer(Completeness(\"b\")) \\\n",
        "                    .run()\n",
        "\n",
        "analysisResult_df = AnalyzerContext.successMetricsAsDataFrame(spark, analysisResult)\n",
        "analysisResult_df.show()"
      ],
      "metadata": {
        "colab": {
          "base_uri": "https://localhost:8080/"
        },
        "id": "YdIc2a7weAH3",
        "outputId": "05bf7b58-4c16-4842-a915-f784f0731e45"
      },
      "execution_count": 9,
      "outputs": [
        {
          "output_type": "stream",
          "name": "stderr",
          "text": [
            "/usr/local/lib/python3.10/dist-packages/pyspark/sql/dataframe.py:127: UserWarning: DataFrame constructor is internal. Do not directly use it.\n",
            "  warnings.warn(\"DataFrame constructor is internal. Do not directly use it.\")\n"
          ]
        },
        {
          "output_type": "stream",
          "name": "stdout",
          "text": [
            "+-------+--------+----+-------+\n",
            "| entity|instance|name|  value|\n",
            "+-------+--------+----+-------+\n",
            "|Dataset|       *|Size|48137.0|\n",
            "+-------+--------+----+-------+\n",
            "\n"
          ]
        }
      ]
    },
    {
      "cell_type": "markdown",
      "source": [
        "\n",
        "\n",
        "```\n",
        "# Profile\n",
        "```\n",
        "\n"
      ],
      "metadata": {
        "id": "ROA7jZ3ffXSS"
      }
    },
    {
      "cell_type": "code",
      "source": [
        "from pydeequ.profiles import *\n",
        "\n",
        "result = ColumnProfilerRunner(spark) \\\n",
        "    .onData(df) \\\n",
        "    .run()\n",
        "\n",
        "for col, profile in result.profiles.items():\n",
        "    print(profile)"
      ],
      "metadata": {
        "colab": {
          "base_uri": "https://localhost:8080/"
        },
        "id": "PGDRXZv9fRK_",
        "outputId": "faa5ac27-c237-4bdb-9bf7-be2ecf8241d8"
      },
      "execution_count": 10,
      "outputs": [
        {
          "output_type": "stream",
          "name": "stdout",
          "text": [
            "StandardProfiles for column: video_id: {\n",
            "    \"completeness\": 1.0,\n",
            "    \"approximateNumDistinctValues\": 7216,\n",
            "    \"dataType\": \"String\",\n",
            "    \"isDataTypeInferred\": false,\n",
            "    \"typeCounts\": {\n",
            "        \"Boolean\": 0,\n",
            "        \"Fractional\": 0,\n",
            "        \"Integral\": 0,\n",
            "        \"Unknown\": 0,\n",
            "        \"String\": 48137\n",
            "    },\n",
            "    \"histogram\": null\n",
            "}\n",
            "StandardProfiles for column: ratings_disabled: {\n",
            "    \"completeness\": 0.85090470947504,\n",
            "    \"approximateNumDistinctValues\": 4,\n",
            "    \"dataType\": \"String\",\n",
            "    \"isDataTypeInferred\": false,\n",
            "    \"typeCounts\": {\n",
            "        \"Boolean\": 0,\n",
            "        \"Fractional\": 0,\n",
            "        \"Integral\": 0,\n",
            "        \"Unknown\": 7177,\n",
            "        \"String\": 40960\n",
            "    },\n",
            "    \"histogram\": [\n",
            "        [\n",
            "            \"NullValue\",\n",
            "            7177,\n",
            "            0.14909529052496\n",
            "        ],\n",
            "        [\n",
            "            \" garganelli\",\n",
            "            7,\n",
            "            0.00014541828531067577\n",
            "        ],\n",
            "        [\n",
            "            \"True\",\n",
            "            169,\n",
            "            0.0035108128882148865\n",
            "        ],\n",
            "        [\n",
            "            \"False\",\n",
            "            40780,\n",
            "            0.8471653821384798\n",
            "        ],\n",
            "        [\n",
            "            \" Ralph and Rickey\\u2019s\",\n",
            "            4,\n",
            "            8.309616303467187e-05\n",
            "        ]\n",
            "    ]\n",
            "}\n",
            "StandardProfiles for column: description: {\n",
            "    \"completeness\": 0.8390635062425993,\n",
            "    \"approximateNumDistinctValues\": 7240,\n",
            "    \"dataType\": \"String\",\n",
            "    \"isDataTypeInferred\": false,\n",
            "    \"typeCounts\": {\n",
            "        \"Boolean\": 0,\n",
            "        \"Fractional\": 0,\n",
            "        \"Integral\": 0,\n",
            "        \"Unknown\": 7747,\n",
            "        \"String\": 40390\n",
            "    },\n",
            "    \"histogram\": null\n",
            "}\n",
            "StandardProfiles for column: comment_count: {\n",
            "    \"completeness\": 0.8524627625319401,\n",
            "    \"approximateNumDistinctValues\": 13283,\n",
            "    \"dataType\": \"String\",\n",
            "    \"isDataTypeInferred\": false,\n",
            "    \"typeCounts\": {\n",
            "        \"Boolean\": 0,\n",
            "        \"Fractional\": 0,\n",
            "        \"Integral\": 40949,\n",
            "        \"Unknown\": 7102,\n",
            "        \"String\": 86\n",
            "    },\n",
            "    \"histogram\": null\n",
            "}\n",
            "StandardProfiles for column: tags: {\n",
            "    \"completeness\": 0.8541454598333922,\n",
            "    \"approximateNumDistinctValues\": 6392,\n",
            "    \"dataType\": \"String\",\n",
            "    \"isDataTypeInferred\": false,\n",
            "    \"typeCounts\": {\n",
            "        \"Boolean\": 0,\n",
            "        \"Fractional\": 0,\n",
            "        \"Integral\": 0,\n",
            "        \"Unknown\": 7021,\n",
            "        \"String\": 41116\n",
            "    },\n",
            "    \"histogram\": null\n",
            "}\n",
            "StandardProfiles for column: channel_title: {\n",
            "    \"completeness\": 0.8748364044290254,\n",
            "    \"approximateNumDistinctValues\": 2305,\n",
            "    \"dataType\": \"String\",\n",
            "    \"isDataTypeInferred\": false,\n",
            "    \"typeCounts\": {\n",
            "        \"Boolean\": 0,\n",
            "        \"Fractional\": 0,\n",
            "        \"Integral\": 0,\n",
            "        \"Unknown\": 6025,\n",
            "        \"String\": 42112\n",
            "    },\n",
            "    \"histogram\": null\n",
            "}\n",
            "StandardProfiles for column: comments_disabled: {\n",
            "    \"completeness\": 0.8521927000020774,\n",
            "    \"approximateNumDistinctValues\": 5,\n",
            "    \"dataType\": \"String\",\n",
            "    \"isDataTypeInferred\": false,\n",
            "    \"typeCounts\": {\n",
            "        \"Boolean\": 0,\n",
            "        \"Fractional\": 0,\n",
            "        \"Integral\": 0,\n",
            "        \"Unknown\": 7115,\n",
            "        \"String\": 41022\n",
            "    },\n",
            "    \"histogram\": [\n",
            "        [\n",
            "            \"NullValue\",\n",
            "            7115,\n",
            "            0.1478072999979226\n",
            "        ],\n",
            "        [\n",
            "            \"True\",\n",
            "            633,\n",
            "            0.013149967800236823\n",
            "        ],\n",
            "        [\n",
            "            \"False\",\n",
            "            40316,\n",
            "            0.8375262272264579\n",
            "        ],\n",
            "        [\n",
            "            \" farfalle\",\n",
            "            7,\n",
            "            0.00014541828531067577\n",
            "        ],\n",
            "        [\n",
            "            \" Wiz Kid\",\n",
            "            4,\n",
            "            8.309616303467187e-05\n",
            "        ],\n",
            "        [\n",
            "            \" sports and more.\",\n",
            "            62,\n",
            "            0.001287990527037414\n",
            "        ]\n",
            "    ]\n",
            "}\n",
            "StandardProfiles for column: video_error_or_removed: {\n",
            "    \"completeness\": 0.85090470947504,\n",
            "    \"approximateNumDistinctValues\": 4,\n",
            "    \"dataType\": \"String\",\n",
            "    \"isDataTypeInferred\": false,\n",
            "    \"typeCounts\": {\n",
            "        \"Boolean\": 0,\n",
            "        \"Fractional\": 0,\n",
            "        \"Integral\": 0,\n",
            "        \"Unknown\": 7177,\n",
            "        \"String\": 40960\n",
            "    },\n",
            "    \"histogram\": [\n",
            "        [\n",
            "            \"NullValue\",\n",
            "            7177,\n",
            "            0.14909529052496\n",
            "        ],\n",
            "        [\n",
            "            \"True\",\n",
            "            23,\n",
            "            0.0004778029374493633\n",
            "        ],\n",
            "        [\n",
            "            \"False\",\n",
            "            40926,\n",
            "            0.8501983920892453\n",
            "        ],\n",
            "        [\n",
            "            \" anolini\",\n",
            "            7,\n",
            "            0.00014541828531067577\n",
            "        ],\n",
            "        [\n",
            "            \" Philips\",\n",
            "            4,\n",
            "            8.309616303467187e-05\n",
            "        ]\n",
            "    ]\n",
            "}\n",
            "StandardProfiles for column: likes: {\n",
            "    \"completeness\": 0.8526289548580094,\n",
            "    \"approximateNumDistinctValues\": 28733,\n",
            "    \"dataType\": \"String\",\n",
            "    \"isDataTypeInferred\": false,\n",
            "    \"typeCounts\": {\n",
            "        \"Boolean\": 0,\n",
            "        \"Fractional\": 0,\n",
            "        \"Integral\": 40949,\n",
            "        \"Unknown\": 7094,\n",
            "        \"String\": 94\n",
            "    },\n",
            "    \"histogram\": null\n",
            "}\n",
            "StandardProfiles for column: views: {\n",
            "    \"completeness\": 0.8530028875916654,\n",
            "    \"approximateNumDistinctValues\": 40761,\n",
            "    \"dataType\": \"String\",\n",
            "    \"isDataTypeInferred\": false,\n",
            "    \"typeCounts\": {\n",
            "        \"Boolean\": 0,\n",
            "        \"Fractional\": 0,\n",
            "        \"Integral\": 40949,\n",
            "        \"Unknown\": 7076,\n",
            "        \"String\": 112\n",
            "    },\n",
            "    \"histogram\": null\n",
            "}\n",
            "StandardProfiles for column: category_id: {\n",
            "    \"completeness\": 0.8692897355464612,\n",
            "    \"approximateNumDistinctValues\": 49,\n",
            "    \"dataType\": \"String\",\n",
            "    \"isDataTypeInferred\": false,\n",
            "    \"typeCounts\": {\n",
            "        \"Boolean\": 0,\n",
            "        \"Fractional\": 0,\n",
            "        \"Integral\": 40949,\n",
            "        \"Unknown\": 6292,\n",
            "        \"String\": 896\n",
            "    },\n",
            "    \"histogram\": [\n",
            "        [\n",
            "            \" fashion\",\n",
            "            32,\n",
            "            0.000664769304277375\n",
            "        ],\n",
            "        [\n",
            "            \" to kimchi and miso\",\n",
            "            28,\n",
            "            0.0005816731412427031\n",
            "        ],\n",
            "        [\n",
            "            \"19\",\n",
            "            402,\n",
            "            0.008351164384984523\n",
            "        ],\n",
            "        [\n",
            "            \"23\",\n",
            "            3457,\n",
            "            0.07181585890271516\n",
            "        ],\n",
            "        [\n",
            "            \" and in select territories by MGM.\\\"\",\n",
            "            7,\n",
            "            0.00014541828531067577\n",
            "        ],\n",
            "        [\n",
            "            \"15\",\n",
            "            920,\n",
            "            0.01911211749797453\n",
            "        ],\n",
            "        [\n",
            "            \"NullValue\",\n",
            "            6292,\n",
            "            0.13071026445353887\n",
            "        ],\n",
            "        [\n",
            "            \" and restaurant menus from the world\\u2019s largest food archive.\\\\n\\\\nMeat Expert Guesses Cheap vs Expensive Deli Meats | Price Points | Epicurious\\\"\",\n",
            "            15,\n",
            "            0.0003116106113800195\n",
            "        ],\n",
            "        [\n",
            "            \" hairstyles\",\n",
            "            8,\n",
            "            0.00016619232606934374\n",
            "        ],\n",
            "        [\n",
            "            \"22\",\n",
            "            3210,\n",
            "            0.06668467083532417\n",
            "        ],\n",
            "        [\n",
            "            \"26\",\n",
            "            4146,\n",
            "            0.0861291729854374\n",
            "        ],\n",
            "        [\n",
            "            \" and restaurant menus from the world\\u2019s largest food archive.\\\\n\\\\n50 People Try to Cut Pineapple Rings | Epicurious\\\"\",\n",
            "            7,\n",
            "            0.00014541828531067577\n",
            "        ],\n",
            "        [\n",
            "            \" and videos for women who want to achieve their personal best in life. \\\\n\\\\nFrancia Raisa Explains How She Became Selena Gomez's Kidney Donor | Body Stories | SELF\\\"\",\n",
            "            12,\n",
            "            0.0002492884891040156\n",
            "        ],\n",
            "        [\n",
            "            \" dining destinations\",\n",
            "            151,\n",
            "            0.0031368801545588634\n",
            "        ],\n",
            "        [\n",
            "            \"24\",\n",
            "            9964,\n",
            "            0.20699254211936763\n",
            "        ],\n",
            "        [\n",
            "            \" created RokShok the world\\u2019s first mobile phone case that conceals an engagement ring.\",\n",
            "            1,\n",
            "            2.0774040758667967e-05\n",
            "        ],\n",
            "        [\n",
            "            \" with Oscar-winner Graham King (\\u201cThe Departed\\u201d) producing under his GK Films banner.  The executive producers are Patrick McCormick\",\n",
            "            7,\n",
            "            0.00014541828531067577\n",
            "        ],\n",
            "        [\n",
            "            \" artist\",\n",
            "            5,\n",
            "            0.00010387020379333985\n",
            "        ],\n",
            "        [\n",
            "            \" even Lara can\\u2019t understand what drives her to finally solve the puzzle of his mysterious death.\",\n",
            "            7,\n",
            "            0.00014541828531067577\n",
            "        ],\n",
            "        [\n",
            "            \"10\",\n",
            "            6472,\n",
            "            0.1344495917900991\n",
            "        ],\n",
            "        [\n",
            "            \" celebrity style\",\n",
            "            140,\n",
            "            0.0029083657062135156\n",
            "        ],\n",
            "        [\n",
            "            \" politics and more. In that tradition\",\n",
            "            62,\n",
            "            0.001287990527037414\n",
            "        ],\n",
            "        [\n",
            "            \" and restaurant menus from the world\\u2019s largest food archive.Knife Expert Guesses Cheap vs. Expensive Knives | Price Points | Epicurious\\\"\",\n",
            "            7,\n",
            "            0.00014541828531067577\n",
            "        ],\n",
            "        [\n",
            "            \" informed reporting of everything from wars and elections to championship games and royal weddings. AP is the largest and most trusted source of independent news and information.\",\n",
            "            39,\n",
            "            0.0008101875895880508\n",
            "        ],\n",
            "        [\n",
            "            \" travel\",\n",
            "            39,\n",
            "            0.0008101875895880508\n",
            "        ],\n",
            "        [\n",
            "            \"43\",\n",
            "            57,\n",
            "            0.0011841203232440742\n",
            "        ],\n",
            "        [\n",
            "            \" and videos from beauty experts. \",\n",
            "            40,\n",
            "            0.0008309616303467188\n",
            "        ],\n",
            "        [\n",
            "            \" videos\",\n",
            "            58,\n",
            "            0.0012048943640027422\n",
            "        ],\n",
            "        [\n",
            "            \"1\",\n",
            "            2345,\n",
            "            0.04871512557907639\n",
            "        ],\n",
            "        [\n",
            "            \" because we are always doing something new. Whether it's home science experiments for kids\",\n",
            "            2,\n",
            "            4.1548081517335934e-05\n",
            "        ],\n",
            "        [\n",
            "            \" how to do a 540\\u00b0 McTwist and more.\",\n",
            "            6,\n",
            "            0.0001246442445520078\n",
            "        ],\n",
            "        [\n",
            "            \"17\",\n",
            "            2174,\n",
            "            0.045162764609344166\n",
            "        ],\n",
            "        [\n",
            "            \" and restaurant menus from the world\\u2019s largest food archive.\\\\n\\\\nChocolate Expert Guesses Cheap vs. Expensive Chocolate | Price Points | Epicurious\\\"\",\n",
            "            1,\n",
            "            2.0774040758667967e-05\n",
            "        ],\n",
            "        [\n",
            "            \"25\",\n",
            "            2487,\n",
            "            0.05166503936680724\n",
            "        ],\n",
            "        [\n",
            "            \" no I'm not a lesbian\",\n",
            "            4,\n",
            "            8.309616303467187e-05\n",
            "        ],\n",
            "        [\n",
            "            \" places\",\n",
            "            145,\n",
            "            0.0030122359100068553\n",
            "        ],\n",
            "        [\n",
            "            \" moisturizers\",\n",
            "            9,\n",
            "            0.0001869663668280117\n",
            "        ],\n",
            "        [\n",
            "            \" Dalessandro\\u2019s\",\n",
            "            4,\n",
            "            8.309616303467187e-05\n",
            "        ],\n",
            "        [\n",
            "            \"20\",\n",
            "            817,\n",
            "            0.01697239129983173\n",
            "        ],\n",
            "        [\n",
            "            \"27\",\n",
            "            1656,\n",
            "            0.03440181149635416\n",
            "        ],\n",
            "        [\n",
            "            \" cencioni\",\n",
            "            7,\n",
            "            0.00014541828531067577\n",
            "        ],\n",
            "        [\n",
            "            \" blind faith and inherently stubborn spirit\\u2014must learn to push herself beyond her limits as she journeys into the unknown.  If she survives this perilous adventure\",\n",
            "            7,\n",
            "            0.00014541828531067577\n",
            "        ],\n",
            "        [\n",
            "            \"2\",\n",
            "            384,\n",
            "            0.0079772316513285\n",
            "        ],\n",
            "        [\n",
            "            \" scandals and arrests\",\n",
            "            5,\n",
            "            0.00010387020379333985\n",
            "        ],\n",
            "        [\n",
            "            \" and restaurant menus from the world\\u2019s largest food archive.\\\\n\\\\nCheese Expert Guesses Cheap vs Expensive Cheeses | Epicurious\\\"\",\n",
            "            2,\n",
            "            4.1548081517335934e-05\n",
            "        ],\n",
            "        [\n",
            "            \" plucked from a bedroom side table. Anything to get the job done\\u2014because as the legendary Chaka Khan knows\",\n",
            "            9,\n",
            "            0.0001869663668280117\n",
            "        ],\n",
            "        [\n",
            "            \" Daniel Wu (AMC\\u2019s \\u201cInto the Badlands\\u201d) and Oscar nominee Kristin Scott Thomas (\\u201cThe English Patient\\u201d).\",\n",
            "            7,\n",
            "            0.00014541828531067577\n",
            "        ],\n",
            "        [\n",
            "            \" John Goodman\",\n",
            "            3,\n",
            "            6.23221222760039e-05\n",
            "        ],\n",
            "        [\n",
            "            \"29\",\n",
            "            57,\n",
            "            0.0011841203232440742\n",
            "        ],\n",
            "        [\n",
            "            \" and restaurant menus from the world\\u2019s largest food archive.Chocolate Expert Guesses Cheap vs. Expensive Chocolate | Price Points | Epicurious\\\"\",\n",
            "            20,\n",
            "            0.0004154808151733594\n",
            "        ],\n",
            "        [\n",
            "            \"28\",\n",
            "            2401,\n",
            "            0.049878471861561795\n",
            "        ]\n",
            "    ]\n",
            "}\n",
            "StandardProfiles for column: dislikes: {\n",
            "    \"completeness\": 0.8524627625319401,\n",
            "    \"approximateNumDistinctValues\": 8082,\n",
            "    \"dataType\": \"String\",\n",
            "    \"isDataTypeInferred\": false,\n",
            "    \"typeCounts\": {\n",
            "        \"Boolean\": 0,\n",
            "        \"Fractional\": 0,\n",
            "        \"Integral\": 40949,\n",
            "        \"Unknown\": 7102,\n",
            "        \"String\": 86\n",
            "    },\n",
            "    \"histogram\": null\n",
            "}\n",
            "StandardProfiles for column: title: {\n",
            "    \"completeness\": 0.8773916114423417,\n",
            "    \"approximateNumDistinctValues\": 6656,\n",
            "    \"dataType\": \"String\",\n",
            "    \"isDataTypeInferred\": false,\n",
            "    \"typeCounts\": {\n",
            "        \"Boolean\": 0,\n",
            "        \"Fractional\": 0,\n",
            "        \"Integral\": 22,\n",
            "        \"Unknown\": 5902,\n",
            "        \"String\": 42213\n",
            "    },\n",
            "    \"histogram\": null\n",
            "}\n",
            "StandardProfiles for column: trending_date: {\n",
            "    \"completeness\": 0.8805077175561419,\n",
            "    \"approximateNumDistinctValues\": 291,\n",
            "    \"dataType\": \"String\",\n",
            "    \"isDataTypeInferred\": false,\n",
            "    \"typeCounts\": {\n",
            "        \"Boolean\": 0,\n",
            "        \"Fractional\": 0,\n",
            "        \"Integral\": 7,\n",
            "        \"Unknown\": 5752,\n",
            "        \"String\": 42378\n",
            "    },\n",
            "    \"histogram\": null\n",
            "}\n",
            "StandardProfiles for column: publish_time: {\n",
            "    \"completeness\": 0.865737374576729,\n",
            "    \"approximateNumDistinctValues\": 6260,\n",
            "    \"dataType\": \"String\",\n",
            "    \"isDataTypeInferred\": false,\n",
            "    \"typeCounts\": {\n",
            "        \"Boolean\": 0,\n",
            "        \"Fractional\": 0,\n",
            "        \"Integral\": 0,\n",
            "        \"Unknown\": 6463,\n",
            "        \"String\": 41674\n",
            "    },\n",
            "    \"histogram\": null\n",
            "}\n",
            "StandardProfiles for column: thumbnail_link: {\n",
            "    \"completeness\": 0.8524627625319401,\n",
            "    \"approximateNumDistinctValues\": 6377,\n",
            "    \"dataType\": \"String\",\n",
            "    \"isDataTypeInferred\": false,\n",
            "    \"typeCounts\": {\n",
            "        \"Boolean\": 0,\n",
            "        \"Fractional\": 0,\n",
            "        \"Integral\": 0,\n",
            "        \"Unknown\": 7102,\n",
            "        \"String\": 41035\n",
            "    },\n",
            "    \"histogram\": null\n",
            "}\n"
          ]
        }
      ]
    },
    {
      "cell_type": "markdown",
      "source": [
        "\n",
        "\n",
        "```\n",
        "# Constraint Suggestion\n",
        "```\n",
        "\n"
      ],
      "metadata": {
        "id": "bB-j0RlmmYiP"
      }
    },
    {
      "cell_type": "code",
      "source": [
        "from pydeequ.suggestions import *\n",
        "\n",
        "suggestionResult = ConstraintSuggestionRunner(spark) \\\n",
        "             .onData(df) \\\n",
        "             .addConstraintRule(DEFAULT()) \\\n",
        "             .run()\n",
        "\n",
        "# Constraint Suggestions in JSON format\n",
        "print(suggestionResult)"
      ],
      "metadata": {
        "colab": {
          "base_uri": "https://localhost:8080/"
        },
        "id": "Bg0kyfbpmcI4",
        "outputId": "622930e1-c5b4-4728-c41e-2e000aef2167"
      },
      "execution_count": 11,
      "outputs": [
        {
          "output_type": "stream",
          "name": "stdout",
          "text": [
            "{'constraint_suggestions': [{'constraint_name': 'CompletenessConstraint(Completeness(video_id,None))', 'column_name': 'video_id', 'current_value': 'Completeness: 1.0', 'description': \"'video_id' is not null\", 'suggesting_rule': 'CompleteIfCompleteRule()', 'rule_description': 'If a column is complete in the sample, we suggest a NOT NULL constraint', 'code_for_constraint': '.isComplete(\"video_id\")'}, {'constraint_name': \"ComplianceConstraint(Compliance('ratings_disabled' has value range 'False', 'True', ' garganelli', ' Ralph and Rickey’s',`ratings_disabled` IN ('False', 'True', ' garganelli', ' Ralph and Rickey’s'),None))\", 'column_name': 'ratings_disabled', 'current_value': 'Compliance: 1', 'description': \"'ratings_disabled' has value range 'False', 'True', ' garganelli', ' Ralph and Rickey’s'\", 'suggesting_rule': 'CategoricalRangeRule(com.amazon.deequ.suggestions.rules.CategoricalRangeRule$$$Lambda$3730/0x000000084162f040@1f3df85d)', 'rule_description': 'If we see a categorical range for a column, we suggest an IS IN (...) constraint', 'code_for_constraint': '.isContainedIn(\"ratings_disabled\", [\"False\", \"True\", \" garganelli\", \" Ralph and Rickey\\\\u2019s\"])'}, {'constraint_name': \"ComplianceConstraint(Compliance('ratings_disabled' has value range 'False' for at least 99.0% of values,`ratings_disabled` IN ('False'),None))\", 'column_name': 'ratings_disabled', 'current_value': 'Compliance: 0.9962606726634398', 'description': \"'ratings_disabled' has value range 'False' for at least 99.0% of values\", 'suggesting_rule': 'FractionalCategoricalRangeRule(0.9,com.amazon.deequ.suggestions.rules.FractionalCategoricalRangeRule$$$Lambda$3731/0x000000084162f840@71ec0bfe)', 'rule_description': 'If we see a categorical range for most values in a column, we suggest an IS IN (...) constraint that should hold for most values', 'code_for_constraint': '.isContainedIn(\"ratings_disabled\", [\"False\"], lambda x: x >= 0.99, \"It should be above 0.99!\")'}, {'constraint_name': 'CompletenessConstraint(Completeness(ratings_disabled,None))', 'column_name': 'ratings_disabled', 'current_value': 'Completeness: 0.85090470947504', 'description': \"'ratings_disabled' has less than 16% missing values\", 'suggesting_rule': 'RetainCompletenessRule()', 'rule_description': 'If a column is incomplete in the sample, we model its completeness as a binomial variable, estimate a confidence interval and use this to define a lower bound for the completeness', 'code_for_constraint': '.hasCompleteness(\"ratings_disabled\", lambda x: x >= 0.84, \"It should be above 0.84!\")'}, {'constraint_name': 'CompletenessConstraint(Completeness(description,None))', 'column_name': 'description', 'current_value': 'Completeness: 0.8390635062425993', 'description': \"'description' has less than 17% missing values\", 'suggesting_rule': 'RetainCompletenessRule()', 'rule_description': 'If a column is incomplete in the sample, we model its completeness as a binomial variable, estimate a confidence interval and use this to define a lower bound for the completeness', 'code_for_constraint': '.hasCompleteness(\"description\", lambda x: x >= 0.83, \"It should be above 0.83!\")'}, {'constraint_name': 'CompletenessConstraint(Completeness(comment_count,None))', 'column_name': 'comment_count', 'current_value': 'Completeness: 0.8524627625319401', 'description': \"'comment_count' has less than 16% missing values\", 'suggesting_rule': 'RetainCompletenessRule()', 'rule_description': 'If a column is incomplete in the sample, we model its completeness as a binomial variable, estimate a confidence interval and use this to define a lower bound for the completeness', 'code_for_constraint': '.hasCompleteness(\"comment_count\", lambda x: x >= 0.84, \"It should be above 0.84!\")'}, {'constraint_name': 'CompletenessConstraint(Completeness(tags,None))', 'column_name': 'tags', 'current_value': 'Completeness: 0.8541454598333922', 'description': \"'tags' has less than 15% missing values\", 'suggesting_rule': 'RetainCompletenessRule()', 'rule_description': 'If a column is incomplete in the sample, we model its completeness as a binomial variable, estimate a confidence interval and use this to define a lower bound for the completeness', 'code_for_constraint': '.hasCompleteness(\"tags\", lambda x: x >= 0.85, \"It should be above 0.85!\")'}, {'constraint_name': 'CompletenessConstraint(Completeness(channel_title,None))', 'column_name': 'channel_title', 'current_value': 'Completeness: 0.8748364044290254', 'description': \"'channel_title' has less than 13% missing values\", 'suggesting_rule': 'RetainCompletenessRule()', 'rule_description': 'If a column is incomplete in the sample, we model its completeness as a binomial variable, estimate a confidence interval and use this to define a lower bound for the completeness', 'code_for_constraint': '.hasCompleteness(\"channel_title\", lambda x: x >= 0.87, \"It should be above 0.87!\")'}, {'constraint_name': \"ComplianceConstraint(Compliance('comments_disabled' has value range 'False', 'True', ' sports and more.', ' farfalle', ' Wiz Kid',`comments_disabled` IN ('False', 'True', ' sports and more.', ' farfalle', ' Wiz Kid'),None))\", 'column_name': 'comments_disabled', 'current_value': 'Compliance: 1', 'description': \"'comments_disabled' has value range 'False', 'True', ' sports and more.', ' farfalle', ' Wiz Kid'\", 'suggesting_rule': 'CategoricalRangeRule(com.amazon.deequ.suggestions.rules.CategoricalRangeRule$$$Lambda$3730/0x000000084162f040@1f3df85d)', 'rule_description': 'If we see a categorical range for a column, we suggest an IS IN (...) constraint', 'code_for_constraint': '.isContainedIn(\"comments_disabled\", [\"False\", \"True\", \" sports and more.\", \" farfalle\", \" Wiz Kid\"])'}, {'constraint_name': \"ComplianceConstraint(Compliance('comments_disabled' has value range 'False' for at least 98.0% of values,`comments_disabled` IN ('False'),None))\", 'column_name': 'comments_disabled', 'current_value': 'Compliance: 0.9853335272243805', 'description': \"'comments_disabled' has value range 'False' for at least 98.0% of values\", 'suggesting_rule': 'FractionalCategoricalRangeRule(0.9,com.amazon.deequ.suggestions.rules.FractionalCategoricalRangeRule$$$Lambda$3731/0x000000084162f840@71ec0bfe)', 'rule_description': 'If we see a categorical range for most values in a column, we suggest an IS IN (...) constraint that should hold for most values', 'code_for_constraint': '.isContainedIn(\"comments_disabled\", [\"False\"], lambda x: x >= 0.98, \"It should be above 0.98!\")'}, {'constraint_name': 'CompletenessConstraint(Completeness(comments_disabled,None))', 'column_name': 'comments_disabled', 'current_value': 'Completeness: 0.8521927000020774', 'description': \"'comments_disabled' has less than 16% missing values\", 'suggesting_rule': 'RetainCompletenessRule()', 'rule_description': 'If a column is incomplete in the sample, we model its completeness as a binomial variable, estimate a confidence interval and use this to define a lower bound for the completeness', 'code_for_constraint': '.hasCompleteness(\"comments_disabled\", lambda x: x >= 0.84, \"It should be above 0.84!\")'}, {'constraint_name': \"ComplianceConstraint(Compliance('video_error_or_removed' has value range 'False', 'True', ' anolini', ' Philips',`video_error_or_removed` IN ('False', 'True', ' anolini', ' Philips'),None))\", 'column_name': 'video_error_or_removed', 'current_value': 'Compliance: 1', 'description': \"'video_error_or_removed' has value range 'False', 'True', ' anolini', ' Philips'\", 'suggesting_rule': 'CategoricalRangeRule(com.amazon.deequ.suggestions.rules.CategoricalRangeRule$$$Lambda$3730/0x000000084162f040@1f3df85d)', 'rule_description': 'If we see a categorical range for a column, we suggest an IS IN (...) constraint', 'code_for_constraint': '.isContainedIn(\"video_error_or_removed\", [\"False\", \"True\", \" anolini\", \" Philips\"])'}, {'constraint_name': \"ComplianceConstraint(Compliance('video_error_or_removed' has value range 'False' for at least 99.0% of values,`video_error_or_removed` IN ('False'),None))\", 'column_name': 'video_error_or_removed', 'current_value': 'Compliance: 0.9992936826142054', 'description': \"'video_error_or_removed' has value range 'False' for at least 99.0% of values\", 'suggesting_rule': 'FractionalCategoricalRangeRule(0.9,com.amazon.deequ.suggestions.rules.FractionalCategoricalRangeRule$$$Lambda$3731/0x000000084162f840@71ec0bfe)', 'rule_description': 'If we see a categorical range for most values in a column, we suggest an IS IN (...) constraint that should hold for most values', 'code_for_constraint': '.isContainedIn(\"video_error_or_removed\", [\"False\"], lambda x: x >= 0.99, \"It should be above 0.99!\")'}, {'constraint_name': 'CompletenessConstraint(Completeness(video_error_or_removed,None))', 'column_name': 'video_error_or_removed', 'current_value': 'Completeness: 0.85090470947504', 'description': \"'video_error_or_removed' has less than 16% missing values\", 'suggesting_rule': 'RetainCompletenessRule()', 'rule_description': 'If a column is incomplete in the sample, we model its completeness as a binomial variable, estimate a confidence interval and use this to define a lower bound for the completeness', 'code_for_constraint': '.hasCompleteness(\"video_error_or_removed\", lambda x: x >= 0.84, \"It should be above 0.84!\")'}, {'constraint_name': 'CompletenessConstraint(Completeness(likes,None))', 'column_name': 'likes', 'current_value': 'Completeness: 0.8526289548580094', 'description': \"'likes' has less than 16% missing values\", 'suggesting_rule': 'RetainCompletenessRule()', 'rule_description': 'If a column is incomplete in the sample, we model its completeness as a binomial variable, estimate a confidence interval and use this to define a lower bound for the completeness', 'code_for_constraint': '.hasCompleteness(\"likes\", lambda x: x >= 0.84, \"It should be above 0.84!\")'}, {'constraint_name': 'CompletenessConstraint(Completeness(views,None))', 'column_name': 'views', 'current_value': 'Completeness: 0.8530028875916654', 'description': \"'views' has less than 16% missing values\", 'suggesting_rule': 'RetainCompletenessRule()', 'rule_description': 'If a column is incomplete in the sample, we model its completeness as a binomial variable, estimate a confidence interval and use this to define a lower bound for the completeness', 'code_for_constraint': '.hasCompleteness(\"views\", lambda x: x >= 0.84, \"It should be above 0.84!\")'}, {'constraint_name': 'ComplianceConstraint(Compliance(\\'category_id\\' has value range \\'24\\', \\'10\\', \\'26\\', \\'23\\', \\'22\\', \\'25\\', \\'28\\', \\'1\\', \\'17\\', \\'27\\', \\'15\\', \\'20\\', \\'19\\', \\'2\\', \\' dining destinations\\', \\' places\\', \\' celebrity style\\', \\' politics and more. In that tradition\\', \\' videos\\', \\'29\\', \\'43\\', \\' and videos from beauty experts. \\', \\' travel\\', \\' informed reporting of everything from wars and elections to championship games and royal weddings. AP is the largest and most trusted source of independent news and information.\\', \\' fashion\\', \\' to kimchi and miso\\', \\' and restaurant menus from the world’s largest food archive.Chocolate Expert Guesses Cheap vs. Expensive Chocolate | Price Points | Epicurious\"\\', \\' and restaurant menus from the world’s largest food archive.\\\\n\\\\nMeat Expert Guesses Cheap vs Expensive Deli Meats | Price Points | Epicurious\"\\', \\' and videos for women who want to achieve their personal best in life. \\\\n\\\\nFrancia Raisa Explains How She Became Selena Gomez\\'\\'s Kidney Donor | Body Stories | SELF\"\\', \\' plucked from a bedroom side table. Anything to get the job done—because as the legendary Chaka Khan knows\\', \\' moisturizers\\', \\' hairstyles\\', \\' Daniel Wu (AMC’s “Into the Badlands”) and Oscar nominee Kristin Scott Thomas (“The English Patient”).\\', \\' blind faith and inherently stubborn spirit—must learn to push herself beyond her limits as she journeys into the unknown.  If she survives this perilous adventure\\', \\' cencioni\\', \\' and restaurant menus from the world’s largest food archive.Knife Expert Guesses Cheap vs. Expensive Knives | Price Points | Epicurious\"\\', \\' even Lara can’t understand what drives her to finally solve the puzzle of his mysterious death.\\', \\' with Oscar-winner Graham King (“The Departed”) producing under his GK Films banner.  The executive producers are Patrick McCormick\\', \\' and restaurant menus from the world’s largest food archive.\\\\n\\\\n50 People Try to Cut Pineapple Rings | Epicurious\"\\', \\' and in select territories by MGM.\"\\', \\' how to do a 540° McTwist and more.\\', \\' scandals and arrests\\', \\' artist\\', \\' Dalessandro’s\\', \\' no I\\'\\'m not a lesbian\\', \\' John Goodman\\', \\' and restaurant menus from the world’s largest food archive.\\\\n\\\\nCheese Expert Guesses Cheap vs Expensive Cheeses | Epicurious\"\\', \\' because we are always doing something new. Whether it\\'\\'s home science experiments for kids\\', \\' and restaurant menus from the world’s largest food archive.\\\\n\\\\nChocolate Expert Guesses Cheap vs. Expensive Chocolate | Price Points | Epicurious\"\\', \\' created RokShok the world’s first mobile phone case that conceals an engagement ring.\\',`category_id` IN (\\'24\\', \\'10\\', \\'26\\', \\'23\\', \\'22\\', \\'25\\', \\'28\\', \\'1\\', \\'17\\', \\'27\\', \\'15\\', \\'20\\', \\'19\\', \\'2\\', \\' dining destinations\\', \\' places\\', \\' celebrity style\\', \\' politics and more. In that tradition\\', \\' videos\\', \\'29\\', \\'43\\', \\' and videos from beauty experts. \\', \\' travel\\', \\' informed reporting of everything from wars and elections to championship games and royal weddings. AP is the largest and most trusted source of independent news and information.\\', \\' fashion\\', \\' to kimchi and miso\\', \\' and restaurant menus from the world’s largest food archive.Chocolate Expert Guesses Cheap vs. Expensive Chocolate | Price Points | Epicurious\"\\', \\' and restaurant menus from the world’s largest food archive.\\\\n\\\\nMeat Expert Guesses Cheap vs Expensive Deli Meats | Price Points | Epicurious\"\\', \\' and videos for women who want to achieve their personal best in life. \\\\n\\\\nFrancia Raisa Explains How She Became Selena Gomez\\'\\'s Kidney Donor | Body Stories | SELF\"\\', \\' plucked from a bedroom side table. Anything to get the job done—because as the legendary Chaka Khan knows\\', \\' moisturizers\\', \\' hairstyles\\', \\' Daniel Wu (AMC’s “Into the Badlands”) and Oscar nominee Kristin Scott Thomas (“The English Patient”).\\', \\' blind faith and inherently stubborn spirit—must learn to push herself beyond her limits as she journeys into the unknown.  If she survives this perilous adventure\\', \\' cencioni\\', \\' and restaurant menus from the world’s largest food archive.Knife Expert Guesses Cheap vs. Expensive Knives | Price Points | Epicurious\"\\', \\' even Lara can’t understand what drives her to finally solve the puzzle of his mysterious death.\\', \\' with Oscar-winner Graham King (“The Departed”) producing under his GK Films banner.  The executive producers are Patrick McCormick\\', \\' and restaurant menus from the world’s largest food archive.\\\\n\\\\n50 People Try to Cut Pineapple Rings | Epicurious\"\\', \\' and in select territories by MGM.\"\\', \\' how to do a 540° McTwist and more.\\', \\' scandals and arrests\\', \\' artist\\', \\' Dalessandro’s\\', \\' no I\\'\\'m not a lesbian\\', \\' John Goodman\\', \\' and restaurant menus from the world’s largest food archive.\\\\n\\\\nCheese Expert Guesses Cheap vs Expensive Cheeses | Epicurious\"\\', \\' because we are always doing something new. Whether it\\'\\'s home science experiments for kids\\', \\' and restaurant menus from the world’s largest food archive.\\\\n\\\\nChocolate Expert Guesses Cheap vs. Expensive Chocolate | Price Points | Epicurious\"\\', \\' created RokShok the world’s first mobile phone case that conceals an engagement ring.\\'),None))', 'column_name': 'category_id', 'current_value': 'Compliance: 1', 'description': '\\'category_id\\' has value range \\'24\\', \\'10\\', \\'26\\', \\'23\\', \\'22\\', \\'25\\', \\'28\\', \\'1\\', \\'17\\', \\'27\\', \\'15\\', \\'20\\', \\'19\\', \\'2\\', \\' dining destinations\\', \\' places\\', \\' celebrity style\\', \\' politics and more. In that tradition\\', \\' videos\\', \\'29\\', \\'43\\', \\' and videos from beauty experts. \\', \\' travel\\', \\' informed reporting of everything from wars and elections to championship games and royal weddings. AP is the largest and most trusted source of independent news and information.\\', \\' fashion\\', \\' to kimchi and miso\\', \\' and restaurant menus from the world’s largest food archive.Chocolate Expert Guesses Cheap vs. Expensive Chocolate | Price Points | Epicurious\"\\', \\' and restaurant menus from the world’s largest food archive.\\\\n\\\\nMeat Expert Guesses Cheap vs Expensive Deli Meats | Price Points | Epicurious\"\\', \\' and videos for women who want to achieve their personal best in life. \\\\n\\\\nFrancia Raisa Explains How She Became Selena Gomez\\'\\'s Kidney Donor | Body Stories | SELF\"\\', \\' plucked from a bedroom side table. Anything to get the job done—because as the legendary Chaka Khan knows\\', \\' moisturizers\\', \\' hairstyles\\', \\' Daniel Wu (AMC’s “Into the Badlands”) and Oscar nominee Kristin Scott Thomas (“The English Patient”).\\', \\' blind faith and inherently stubborn spirit—must learn to push herself beyond her limits as she journeys into the unknown.  If she survives this perilous adventure\\', \\' cencioni\\', \\' and restaurant menus from the world’s largest food archive.Knife Expert Guesses Cheap vs. Expensive Knives | Price Points | Epicurious\"\\', \\' even Lara can’t understand what drives her to finally solve the puzzle of his mysterious death.\\', \\' with Oscar-winner Graham King (“The Departed”) producing under his GK Films banner.  The executive producers are Patrick McCormick\\', \\' and restaurant menus from the world’s largest food archive.\\\\n\\\\n50 People Try to Cut Pineapple Rings | Epicurious\"\\', \\' and in select territories by MGM.\"\\', \\' how to do a 540° McTwist and more.\\', \\' scandals and arrests\\', \\' artist\\', \\' Dalessandro’s\\', \\' no I\\'\\'m not a lesbian\\', \\' John Goodman\\', \\' and restaurant menus from the world’s largest food archive.\\\\n\\\\nCheese Expert Guesses Cheap vs Expensive Cheeses | Epicurious\"\\', \\' because we are always doing something new. Whether it\\'\\'s home science experiments for kids\\', \\' and restaurant menus from the world’s largest food archive.\\\\n\\\\nChocolate Expert Guesses Cheap vs. Expensive Chocolate | Price Points | Epicurious\"\\', \\' created RokShok the world’s first mobile phone case that conceals an engagement ring.\\'', 'suggesting_rule': 'CategoricalRangeRule(com.amazon.deequ.suggestions.rules.CategoricalRangeRule$$$Lambda$3730/0x000000084162f040@1f3df85d)', 'rule_description': 'If we see a categorical range for a column, we suggest an IS IN (...) constraint', 'code_for_constraint': '.isContainedIn(\"category_id\", [\"24\", \"10\", \"26\", \"23\", \"22\", \"25\", \"28\", \"1\", \"17\", \"27\", \"15\", \"20\", \"19\", \"2\", \" dining destinations\", \" places\", \" celebrity style\", \" politics and more. In that tradition\", \" videos\", \"29\", \"43\", \" and videos from beauty experts. \", \" travel\", \" informed reporting of everything from wars and elections to championship games and royal weddings. AP is the largest and most trusted source of independent news and information.\", \" fashion\", \" to kimchi and miso\", \" and restaurant menus from the world\\\\u2019s largest food archive.Chocolate Expert Guesses Cheap vs. Expensive Chocolate | Price Points | Epicurious\\\\\"\", \" and restaurant menus from the world\\\\u2019s largest food archive.\\\\\\\\n\\\\\\\\nMeat Expert Guesses Cheap vs Expensive Deli Meats | Price Points | Epicurious\\\\\"\", \" and videos for women who want to achieve their personal best in life. \\\\\\\\n\\\\\\\\nFrancia Raisa Explains How She Became Selena Gomez\\'s Kidney Donor | Body Stories | SELF\\\\\"\", \" plucked from a bedroom side table. Anything to get the job done\\\\u2014because as the legendary Chaka Khan knows\", \" moisturizers\", \" hairstyles\", \" Daniel Wu (AMC\\\\u2019s \\\\u201CInto the Badlands\\\\u201D] and Oscar nominee Kristin Scott Thomas (\\\\u201CThe English Patient\\\\u201D).\", \" blind faith and inherently stubborn spirit\\\\u2014must learn to push herself beyond her limits as she journeys into the unknown.  If she survives this perilous adventure\", \" cencioni\", \" and restaurant menus from the world\\\\u2019s largest food archive.Knife Expert Guesses Cheap vs. Expensive Knives | Price Points | Epicurious\\\\\"\", \" even Lara can\\\\u2019t understand what drives her to finally solve the puzzle of his mysterious death.\", \" with Oscar-winner Graham King (\\\\u201CThe Departed\\\\u201D) producing under his GK Films banner.  The executive producers are Patrick McCormick\", \" and restaurant menus from the world\\\\u2019s largest food archive.\\\\\\\\n\\\\\\\\n50 People Try to Cut Pineapple Rings | Epicurious\\\\\"\", \" and in select territories by MGM.\\\\\"\", \" how to do a 540\\\\u00B0 McTwist and more.\", \" scandals and arrests\", \" artist\", \" Dalessandro\\\\u2019s\", \" no I\\'m not a lesbian\", \" John Goodman\", \" and restaurant menus from the world\\\\u2019s largest food archive.\\\\\\\\n\\\\\\\\nCheese Expert Guesses Cheap vs Expensive Cheeses | Epicurious\\\\\"\", \" because we are always doing something new. Whether it\\'s home science experiments for kids\", \" and restaurant menus from the world\\\\u2019s largest food archive.\\\\\\\\n\\\\\\\\nChocolate Expert Guesses Cheap vs. Expensive Chocolate | Price Points | Epicurious\\\\\"\", \" created RokShok the world\\\\u2019s first mobile phone case that conceals an engagement ring.\"))'}, {'constraint_name': \"ComplianceConstraint(Compliance('category_id' has value range '24', '10', '26', '23', '22', '25', '28', '1', '17', '27' for at least 92.0% of values,`category_id` IN ('24', '10', '26', '23', '22', '25', '28', '1', '17', '27'),None))\", 'column_name': 'category_id', 'current_value': 'Compliance: 0.9266053139996262', 'description': \"'category_id' has value range '24', '10', '26', '23', '22', '25', '28', '1', '17', '27' for at least 92.0% of values\", 'suggesting_rule': 'FractionalCategoricalRangeRule(0.9,com.amazon.deequ.suggestions.rules.FractionalCategoricalRangeRule$$$Lambda$3731/0x000000084162f840@71ec0bfe)', 'rule_description': 'If we see a categorical range for most values in a column, we suggest an IS IN (...) constraint that should hold for most values', 'code_for_constraint': '.isContainedIn(\"category_id\", [\"24\", \"10\", \"26\", \"23\", \"22\", \"25\", \"28\", \"1\", \"17\", \"27\"], lambda x: x >= 0.92, \"It should be above 0.92!\")'}, {'constraint_name': 'CompletenessConstraint(Completeness(category_id,None))', 'column_name': 'category_id', 'current_value': 'Completeness: 0.8692897355464612', 'description': \"'category_id' has less than 14% missing values\", 'suggesting_rule': 'RetainCompletenessRule()', 'rule_description': 'If a column is incomplete in the sample, we model its completeness as a binomial variable, estimate a confidence interval and use this to define a lower bound for the completeness', 'code_for_constraint': '.hasCompleteness(\"category_id\", lambda x: x >= 0.86, \"It should be above 0.86!\")'}, {'constraint_name': 'CompletenessConstraint(Completeness(dislikes,None))', 'column_name': 'dislikes', 'current_value': 'Completeness: 0.8524627625319401', 'description': \"'dislikes' has less than 16% missing values\", 'suggesting_rule': 'RetainCompletenessRule()', 'rule_description': 'If a column is incomplete in the sample, we model its completeness as a binomial variable, estimate a confidence interval and use this to define a lower bound for the completeness', 'code_for_constraint': '.hasCompleteness(\"dislikes\", lambda x: x >= 0.84, \"It should be above 0.84!\")'}, {'constraint_name': 'CompletenessConstraint(Completeness(title,None))', 'column_name': 'title', 'current_value': 'Completeness: 0.8773916114423417', 'description': \"'title' has less than 13% missing values\", 'suggesting_rule': 'RetainCompletenessRule()', 'rule_description': 'If a column is incomplete in the sample, we model its completeness as a binomial variable, estimate a confidence interval and use this to define a lower bound for the completeness', 'code_for_constraint': '.hasCompleteness(\"title\", lambda x: x >= 0.87, \"It should be above 0.87!\")'}, {'constraint_name': 'CompletenessConstraint(Completeness(trending_date,None))', 'column_name': 'trending_date', 'current_value': 'Completeness: 0.8805077175561419', 'description': \"'trending_date' has less than 13% missing values\", 'suggesting_rule': 'RetainCompletenessRule()', 'rule_description': 'If a column is incomplete in the sample, we model its completeness as a binomial variable, estimate a confidence interval and use this to define a lower bound for the completeness', 'code_for_constraint': '.hasCompleteness(\"trending_date\", lambda x: x >= 0.87, \"It should be above 0.87!\")'}, {'constraint_name': 'CompletenessConstraint(Completeness(publish_time,None))', 'column_name': 'publish_time', 'current_value': 'Completeness: 0.865737374576729', 'description': \"'publish_time' has less than 14% missing values\", 'suggesting_rule': 'RetainCompletenessRule()', 'rule_description': 'If a column is incomplete in the sample, we model its completeness as a binomial variable, estimate a confidence interval and use this to define a lower bound for the completeness', 'code_for_constraint': '.hasCompleteness(\"publish_time\", lambda x: x >= 0.86, \"It should be above 0.86!\")'}, {'constraint_name': 'CompletenessConstraint(Completeness(thumbnail_link,None))', 'column_name': 'thumbnail_link', 'current_value': 'Completeness: 0.8524627625319401', 'description': \"'thumbnail_link' has less than 16% missing values\", 'suggesting_rule': 'RetainCompletenessRule()', 'rule_description': 'If a column is incomplete in the sample, we model its completeness as a binomial variable, estimate a confidence interval and use this to define a lower bound for the completeness', 'code_for_constraint': '.hasCompleteness(\"thumbnail_link\", lambda x: x >= 0.84, \"It should be above 0.84!\")'}]}\n"
          ]
        }
      ]
    },
    {
      "cell_type": "markdown",
      "source": [
        "\n",
        "\n",
        "```\n",
        "# Constraint verification\n",
        "```\n",
        "\n"
      ],
      "metadata": {
        "id": "d0hjPmYFmoH2"
      }
    },
    {
      "cell_type": "code",
      "source": [
        "from pydeequ.checks import *\n",
        "from pydeequ.verification import *\n",
        "\n",
        "check = Check(spark, CheckLevel.Warning, \"Review Check\")\n",
        "\n",
        "checkResult = VerificationSuite(spark) \\\n",
        "    .onData(df) \\\n",
        "    .addCheck(\n",
        "        check.hasSize(lambda x: x >= 3) \\\n",
        "        .hasMin(\"b\", lambda x: x == 0) \\\n",
        "        .isComplete(\"c\")  \\\n",
        "        .isUnique(\"a\")  \\\n",
        "        .isContainedIn(\"a\", [\"foo\", \"bar\", \"baz\"]) \\\n",
        "        .isNonNegative(\"b\")) \\\n",
        "    .run()\n",
        "\n",
        "checkResult_df = VerificationResult.checkResultsAsDataFrame(spark, checkResult)\n",
        "checkResult_df.show()"
      ],
      "metadata": {
        "colab": {
          "base_uri": "https://localhost:8080/"
        },
        "id": "ZaO6N_SkmmpQ",
        "outputId": "0bab760e-1582-4976-ef0e-c379e222c712"
      },
      "execution_count": 12,
      "outputs": [
        {
          "output_type": "stream",
          "name": "stdout",
          "text": [
            "Python Callback server started!\n",
            "+------------+-----------+------------+--------------------+-----------------+--------------------+\n",
            "|       check|check_level|check_status|          constraint|constraint_status|  constraint_message|\n",
            "+------------+-----------+------------+--------------------+-----------------+--------------------+\n",
            "|Review Check|    Warning|     Warning|SizeConstraint(Si...|          Failure|org.apache.spark....|\n",
            "|Review Check|    Warning|     Warning|MinimumConstraint...|          Failure|Input data does n...|\n",
            "|Review Check|    Warning|     Warning|CompletenessConst...|          Failure|Input data does n...|\n",
            "|Review Check|    Warning|     Warning|UniquenessConstra...|          Failure|Input data does n...|\n",
            "|Review Check|    Warning|     Warning|ComplianceConstra...|          Failure|org.apache.spark....|\n",
            "|Review Check|    Warning|     Warning|ComplianceConstra...|          Failure|org.apache.spark....|\n",
            "+------------+-----------+------------+--------------------+-----------------+--------------------+\n",
            "\n"
          ]
        }
      ]
    },
    {
      "cell_type": "markdown",
      "source": [
        "\n",
        "\n",
        "```\n",
        "# Repository\n",
        "Save to a Metrics Repository by adding the useRepository() and saveOrAppendResult() calls to your Analysis Runner\n",
        "```\n",
        "\n"
      ],
      "metadata": {
        "id": "vuAjGTkMm1J3"
      }
    },
    {
      "cell_type": "code",
      "source": [
        "from pydeequ.repository import *\n",
        "from pydeequ.analyzers import *\n",
        "\n",
        "metrics_file = FileSystemMetricsRepository.helper_metrics_file(spark, 'metrics.json')\n",
        "repository = FileSystemMetricsRepository(spark, metrics_file)\n",
        "key_tags = {'tag': 'pydeequ hello world'}\n",
        "resultKey = ResultKey(spark, ResultKey.current_milli_time(), key_tags)\n",
        "\n",
        "analysisResult = AnalysisRunner(spark) \\\n",
        "    .onData(df) \\\n",
        "    .addAnalyzer(ApproxCountDistinct('b')) \\\n",
        "    .useRepository(repository) \\\n",
        "    .saveOrAppendResult(resultKey) \\\n",
        "    .run()"
      ],
      "metadata": {
        "id": "bxcXQsscm41n"
      },
      "execution_count": 13,
      "outputs": []
    },
    {
      "cell_type": "markdown",
      "source": [
        "\n",
        "\n",
        "```\n",
        "# To load previous runs, use the repository object to load previous results back in.\n",
        "```\n",
        "\n"
      ],
      "metadata": {
        "id": "3EyLRziOnvfX"
      }
    },
    {
      "cell_type": "code",
      "source": [
        "result_metrep_df = repository.load() \\\n",
        "    .before(ResultKey.current_milli_time()) \\\n",
        "    .forAnalyzers([ApproxCountDistinct('b')]) \\\n",
        "    .getSuccessMetricsAsDataFrame()"
      ],
      "metadata": {
        "id": "Z-JNHwbrn1f3"
      },
      "execution_count": 14,
      "outputs": []
    }
  ]
}